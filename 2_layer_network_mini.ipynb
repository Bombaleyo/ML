{
 "cells": [
  {
   "cell_type": "code",
   "execution_count": 1,
   "metadata": {},
   "outputs": [],
   "source": [
    "import numpy as np"
   ]
  },
  {
   "cell_type": "code",
   "execution_count": 2,
   "metadata": {},
   "outputs": [],
   "source": [
    "############## ACTIVATION FUNCTIONS ##############################\n",
    "\n",
    "def sigmoid(q):\n",
    "    return(1/(1+np.exp(-q)))\n",
    "\n",
    "def sigmoid_prime(q):\n",
    "    return(sigmoid(q)*(1-sigmoid(q)))\n",
    "\n",
    "def max_act(q):\n",
    "    return(max(0, q))\n",
    "\n",
    "def max_act_prime(q):\n",
    "    if q > 0:\n",
    "        return(1)\n",
    "    else:\n",
    "        return(0)"
   ]
  },
  {
   "cell_type": "code",
   "execution_count": 26,
   "metadata": {},
   "outputs": [],
   "source": [
    "class Network:\n",
    "    \n",
    "    def __init__(self, W_list, input_matrix, act_list, y):\n",
    "        self.X = input_matrix\n",
    "        self.W_list = W_list\n",
    "        self.y = y\n",
    "        self.act_list = act_list\n",
    "        self.delta_list = []\n",
    "        \n",
    "    def forward_pass(self):\n",
    "        #act_values = np.zeros(act_list.shape)\n",
    "        self.act_values = []\n",
    "        self.sum_values = []\n",
    "        \n",
    "        for layer in range(len(self.act_list)): \n",
    "            if layer == 0:                # начинаем со второго слоя\n",
    "                sum_fun = self.W_list[0].dot(self.X)\n",
    "                act_fun = self.activate(sum_fun, self.act_list[layer])\n",
    "                self.act_values.append(act_fun)\n",
    "                self.sum_values.append(sum_fun)\n",
    "            else:\n",
    "                sum_fun = self.W_list[layer].dot(self.act_values[layer-1])\n",
    "                act_fun = self.activate(sum_fun, self.act_list[layer])\n",
    "                self.act_values.append(act_fun)\n",
    "                self.sum_values.append(sum_fun)\n",
    "        nabla_J = (self.act_values[-1] - self.y)/self.X.shape[1]\n",
    "        self.delta_L = nabla_J*self.prime(self.act_list[layer],sum_fun)\n",
    "        self.delta_list.append(self.delta_L)\n",
    "        print(\"Вектор X:\", self.X)\n",
    "        print(\"Список автиваций:\", self.act_values)\n",
    "        print('Результат сложения')\n",
    "        print()\n",
    "        print(self.act_values)\n",
    "        return(self.delta_L)\n",
    "                \n",
    "    def activate(self, summ, act_layer):\n",
    "        act_res = np.zeros((len(act_layer),1))\n",
    "        for i in range(len(act_layer)):  \n",
    "            if act_layer[i] == 'max':\n",
    "                act_res[i] = max_act(summ[i])\n",
    "            elif act_layer[i] == 'sigm':\n",
    "                act_res[i] = sigmoid(summ[i])\n",
    "        return(act_res)\n",
    "    \n",
    "    def backprop(self):\n",
    "        for layer in range(len(W_list)-1):\n",
    "            curr_layer = len(W_list)-layer-1\n",
    "            print('all_sum_values', self.sum_values)\n",
    "            delta_l = self.W_list[curr_layer].T.dot(self.delta_list[layer])*self.prime(act_list[curr_layer-1],self.sum_values[curr_layer-1])\n",
    "            self.delta_list.append(delta_l)\n",
    "        return(list(reversed(self.delta_list)))\n",
    "    \n",
    "    \n",
    "    def delta_W(self):\n",
    "        dJ_dW = self.W_list\n",
    "    # нужно добавить входы в act_values\n",
    "        self.act_values.insert(0, self.X)\n",
    "        for i in range(len(dJ_dW)):\n",
    "            dJ_dW[i] = list(reversed(self.delta_list))[i].dot(self.act_values[i].T) \n",
    "            # первый элемент delta_list- список ошибок второго слоя\n",
    "            #первый элемент act_values - список активаций первого слоя\n",
    "        return dJ_dW\n",
    "    \n",
    "\n",
    "   \n",
    "    def prime(self, act_layer, sum_layer):\n",
    "\n",
    "        def find_prime(zipped_act_sum):\n",
    "            act_neuron, sum_neuron = zipped_act_sum[0], zipped_act_sum[1]\n",
    "            if act_neuron == 'max':\n",
    "                return max_act_prime(sum_neuron)\n",
    "            else:\n",
    "                print('sig', type(sigmoid_prime(sum_neuron)),sigmoid_prime(sum_neuron))\n",
    "                return sigmoid_prime(sum_neuron)\n",
    "        \n",
    "        print('sum-layer', sum_layer, sum_layer.shape)\n",
    "        for each in map(find_prime, zip(act_layer, sum_layer)): print('checher',type(each))\n",
    "\n",
    "        out = np.array(list(map(find_prime, zip(act_layer, sum_layer))))\n",
    "    \n",
    "        return(np.reshape(out, (len(act_layer),1)))\n",
    "    \n",
    "        "
   ]
  },
  {
   "cell_type": "code",
   "execution_count": 27,
   "metadata": {},
   "outputs": [],
   "source": [
    "act_list = np.array([['max', 'sigm'], ['sigm']], dtype=object)\n",
    "y = 1\n",
    "W_list = [np.array([[0.7, 0.2, 0.7], [0.8, 0.3, 0.6]]), np.array([[0.2, 0.4]])]\n",
    "input_matrix = np.array([[0.0, 1.0, 1.0]]).T\n",
    "\n",
    "\n"
   ]
  },
  {
   "cell_type": "code",
   "execution_count": 28,
   "metadata": {},
   "outputs": [
    {
     "name": "stdout",
     "output_type": "stream",
     "text": [
      "sum-layer [[0.4643798]] (1, 1)\n",
      "sig <class 'numpy.ndarray'> [0.23699199]\n",
      "checher <class 'numpy.ndarray'>\n",
      "sig <class 'numpy.ndarray'> [0.23699199]\n",
      "Вектор X: [[0.]\n",
      " [1.]\n",
      " [1.]]\n",
      "Список автиваций: [array([[0.9      ],\n",
      "       [0.7109495]]), array([[0.61405267]])]\n",
      "Результат сложения\n",
      "\n",
      "[array([[0.9      ],\n",
      "       [0.7109495]]), array([[0.61405267]])]\n"
     ]
    },
    {
     "data": {
      "text/plain": [
       "array([[-0.09146642]])"
      ]
     },
     "execution_count": 28,
     "metadata": {},
     "output_type": "execute_result"
    }
   ],
   "source": [
    "network = Network(W_list, input_matrix, act_list, y)\n",
    "network.forward_pass()\n"
   ]
  },
  {
   "cell_type": "code",
   "execution_count": 29,
   "metadata": {},
   "outputs": [
    {
     "name": "stdout",
     "output_type": "stream",
     "text": [
      "all_sum_values [array([[0.9],\n",
      "       [0.9]]), array([[0.4643798]])]\n",
      "sum-layer [[0.9]\n",
      " [0.9]] (2, 1)\n",
      "checher <class 'int'>\n",
      "sig <class 'numpy.ndarray'> [0.20550031]\n",
      "checher <class 'numpy.ndarray'>\n",
      "sig <class 'numpy.ndarray'> [0.20550031]\n"
     ]
    },
    {
     "data": {
      "text/plain": [
       "[array([[-0.01829328],\n",
       "        [-0.00751855]]),\n",
       " array([[-0.09146642]])]"
      ]
     },
     "execution_count": 29,
     "metadata": {},
     "output_type": "execute_result"
    }
   ],
   "source": [
    "network.backprop()"
   ]
  },
  {
   "cell_type": "code",
   "execution_count": 8,
   "metadata": {},
   "outputs": [
    {
     "data": {
      "text/plain": [
       "[array([[-0.        , -0.01829328, -0.01829328],\n",
       "        [-0.        , -0.00751855, -0.00751855]]),\n",
       " array([[-0.08231978, -0.06502801]])]"
      ]
     },
     "execution_count": 8,
     "metadata": {},
     "output_type": "execute_result"
    }
   ],
   "source": [
    "network.delta_W()"
   ]
  },
  {
   "cell_type": "code",
   "execution_count": 69,
   "metadata": {},
   "outputs": [
    {
     "data": {
      "text/plain": [
       "['max', 'sigm']"
      ]
     },
     "execution_count": 69,
     "metadata": {},
     "output_type": "execute_result"
    }
   ],
   "source": [
    "act_list[0]"
   ]
  },
  {
   "cell_type": "code",
   "execution_count": 8,
   "metadata": {},
   "outputs": [
    {
     "ename": "SyntaxError",
     "evalue": "invalid syntax (<ipython-input-8-d9320e1e57a8>, line 2)",
     "output_type": "error",
     "traceback": [
      "\u001b[1;36m  File \u001b[1;32m\"<ipython-input-8-d9320e1e57a8>\"\u001b[1;36m, line \u001b[1;32m2\u001b[0m\n\u001b[1;33m    for in range(len(a_copy)\u001b[0m\n\u001b[1;37m         ^\u001b[0m\n\u001b[1;31mSyntaxError\u001b[0m\u001b[1;31m:\u001b[0m invalid syntax\n"
     ]
    }
   ],
   "source": [
    "a_copy = act_list.copy()\n",
    "for in range(len(a_copy)"
   ]
  },
  {
   "cell_type": "code",
   "execution_count": null,
   "metadata": {},
   "outputs": [],
   "source": [
    "act_values = np.zeros(act_list.shape)"
   ]
  },
  {
   "cell_type": "code",
   "execution_count": null,
   "metadata": {},
   "outputs": [],
   "source": [
    "act_values"
   ]
  },
  {
   "cell_type": "code",
   "execution_count": null,
   "metadata": {},
   "outputs": [],
   "source": [
    "for i in range(3):\n",
    "    print('@')"
   ]
  },
  {
   "cell_type": "code",
   "execution_count": null,
   "metadata": {},
   "outputs": [],
   "source": [
    "len(W_list)"
   ]
  },
  {
   "cell_type": "code",
   "execution_count": 54,
   "metadata": {},
   "outputs": [],
   "source": [
    "numbers = [4, 2, 3]"
   ]
  },
  {
   "cell_type": "code",
   "execution_count": 57,
   "metadata": {},
   "outputs": [],
   "source": [
    "L = [lambda x: x**2, lambda x: x**3, lambda x: x]"
   ]
  },
  {
   "cell_type": "code",
   "execution_count": 60,
   "metadata": {},
   "outputs": [],
   "source": [
    "m_numbers = []\n",
    "for number, f in zip(numbers, L):\n",
    "    m_numbers.append(f(number))"
   ]
  },
  {
   "cell_type": "code",
   "execution_count": 61,
   "metadata": {},
   "outputs": [
    {
     "data": {
      "text/plain": [
       "[16, 8, 3]"
      ]
     },
     "execution_count": 61,
     "metadata": {},
     "output_type": "execute_result"
    }
   ],
   "source": [
    "m_numbers"
   ]
  },
  {
   "cell_type": "code",
   "execution_count": 10,
   "metadata": {},
   "outputs": [],
   "source": [
    "active_prime = []\n",
    "active_names = ['sigm', 'max']\n",
    "for name in active_names:\n",
    "    if name == 'sigm':\n",
    "        active_prime.append(lambda x: sigmoid(x))\n",
    "    else:\n",
    "        active_prime.append(lambda x: max_act(x))"
   ]
  },
  {
   "cell_type": "code",
   "execution_count": 15,
   "metadata": {},
   "outputs": [],
   "source": [
    "test = [1, 2]\n",
    "active_values = []\n",
    "for a, sample in zip(active_prime, test):\n",
    "    active_values.append(a(sample))"
   ]
  },
  {
   "cell_type": "code",
   "execution_count": 16,
   "metadata": {},
   "outputs": [
    {
     "data": {
      "text/plain": [
       "[0.7310585786300049, 2]"
      ]
     },
     "execution_count": 16,
     "metadata": {},
     "output_type": "execute_result"
    }
   ],
   "source": [
    "active_values"
   ]
  },
  {
   "cell_type": "code",
   "execution_count": 49,
   "metadata": {},
   "outputs": [],
   "source": [
    "act_layer = ['sigm', 'max']\n",
    "sum_layer = [1, 2]\n",
    "```\n",
    "def prime(act_layer, sum_layer):\n",
    "\n",
    "    def find_prime(zipped_act_sum):\n",
    "        act_neuron, sum_neuron = zipped_act_sum[0], zipped_act_sum[1]\n",
    "        if act_neuron == 'max':\n",
    "            return max_act(sum_neuron)\n",
    "        else:\n",
    "            return sigmoid_prime(sum_neuron)\n",
    "        \n",
    "    out = np.array(list(map(find_prime, zip(act_layer, sum_layer))))\n",
    "    \n",
    "    return(np.reshape(out, (len(act_layer),1)))\n",
    "```\n"
   ]
  },
  {
   "cell_type": "code",
   "execution_count": 52,
   "metadata": {},
   "outputs": [
    {
     "data": {
      "text/plain": [
       "array([[0.19661193],\n",
       "       [0.10499359]])"
      ]
     },
     "execution_count": 52,
     "metadata": {},
     "output_type": "execute_result"
    }
   ],
   "source": [
    "act_layer = ['sigm', 'sigm']\n",
    "sum_layer = [1, 2]\n",
    "\n",
    "find_prime(act_layer, sum_layer)"
   ]
  },
  {
   "cell_type": "code",
   "execution_count": 37,
   "metadata": {},
   "outputs": [
    {
     "data": {
      "text/plain": [
       "'sigm'"
      ]
     },
     "execution_count": 37,
     "metadata": {},
     "output_type": "execute_result"
    }
   ],
   "source": [
    "list(zip(act_layer, sum_layer))[0][0]"
   ]
  },
  {
   "cell_type": "code",
   "execution_count": 39,
   "metadata": {},
   "outputs": [
    {
     "data": {
      "text/plain": [
       "[0.19661193324148185, 2]"
      ]
     },
     "execution_count": 39,
     "metadata": {},
     "output_type": "execute_result"
    }
   ],
   "source": [
    "mapped"
   ]
  },
  {
   "cell_type": "code",
   "execution_count": null,
   "metadata": {},
   "outputs": [],
   "source": []
  }
 ],
 "metadata": {
  "kernelspec": {
   "display_name": "Python 3",
   "language": "python",
   "name": "python3"
  },
  "language_info": {
   "codemirror_mode": {
    "name": "ipython",
    "version": 3
   },
   "file_extension": ".py",
   "mimetype": "text/x-python",
   "name": "python",
   "nbconvert_exporter": "python",
   "pygments_lexer": "ipython3",
   "version": "3.7.4"
  }
 },
 "nbformat": 4,
 "nbformat_minor": 4
}
